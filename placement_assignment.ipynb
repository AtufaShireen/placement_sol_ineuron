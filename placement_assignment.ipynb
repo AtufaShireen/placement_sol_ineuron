{
  "nbformat": 4,
  "nbformat_minor": 0,
  "metadata": {
    "colab": {
      "name": "placement_assignment.ipynb",
      "provenance": [],
      "authorship_tag": "ABX9TyMJSiOglwKeDbDYMw0/EQP9",
      "include_colab_link": true
    },
    "kernelspec": {
      "name": "python3",
      "display_name": "Python 3"
    },
    "language_info": {
      "name": "python"
    }
  },
  "cells": [
    {
      "cell_type": "markdown",
      "metadata": {
        "id": "view-in-github",
        "colab_type": "text"
      },
      "source": [
        "<a href=\"https://colab.research.google.com/github/AtufaShireen/placement_sol_ineuron/blob/main/placement_assignment.ipynb\" target=\"_parent\"><img src=\"https://colab.research.google.com/assets/colab-badge.svg\" alt=\"Open In Colab\"/></a>"
      ]
    },
    {
      "cell_type": "markdown",
      "source": [
        "# assignment 1\n",
        "\n",
        "replacing content of a file"
      ],
      "metadata": {
        "id": "bSOspMkvf5EE"
      }
    },
    {
      "cell_type": "code",
      "source": [
        "%%writefile example.txt\n",
        "This is a placement assignment"
      ],
      "metadata": {
        "colab": {
          "base_uri": "https://localhost:8080/"
        },
        "id": "1VEMiXUcfPyp",
        "outputId": "08f66edf-e806-4915-97a1-8a059ad47014"
      },
      "execution_count": null,
      "outputs": [
        {
          "output_type": "stream",
          "name": "stdout",
          "text": [
            "Writing example.txt\n"
          ]
        }
      ]
    },
    {
      "cell_type": "code",
      "source": [
        "with open('example.txt', 'r+') as f:\n",
        "    content = f.read()\n",
        "    content = content.replace('placement','screening')\n",
        "    f.seek(0)\n",
        "    f.write(content)"
      ],
      "metadata": {
        "id": "we7iTzJifYjD"
      },
      "execution_count": null,
      "outputs": []
    },
    {
      "cell_type": "code",
      "source": [
        "with open('example.txt', 'r') as f:\n",
        "    print(f.read())"
      ],
      "metadata": {
        "colab": {
          "base_uri": "https://localhost:8080/"
        },
        "id": "jWzDazKJfzkz",
        "outputId": "625f66e1-8027-443f-9c05-d80933fb10a6"
      },
      "execution_count": null,
      "outputs": [
        {
          "output_type": "stream",
          "name": "stdout",
          "text": [
            "This is a screening assignment\n"
          ]
        }
      ]
    },
    {
      "cell_type": "markdown",
      "source": [
        "# Assignment 2\n"
      ],
      "metadata": {
        "id": "IXnQHrdPf_mF"
      }
    },
    {
      "cell_type": "markdown",
      "source": [
        "## Implementation of Abstract class"
      ],
      "metadata": {
        "id": "WruPQBdigEvh"
      }
    },
    {
      "cell_type": "code",
      "source": [
        "from abc import ABC, abstractmethod\n",
        " \n",
        "class PageInfo(ABC):\n",
        " \n",
        "    @abstractmethod\n",
        "    def info(self):\n",
        "        pass\n",
        " \n",
        "class Website(PageInfo):\n",
        "    def __init__(self):\n",
        "        self.content = \"The best website\"\n",
        "    def __repr__(self):\n",
        "        return \"Website class\"\n",
        " \n",
        "    # overriding abstract method\n",
        "    def info(self):\n",
        "        print(\"You're on Home page\")\n",
        "obj = Website()\n",
        "obj.info()"
      ],
      "metadata": {
        "colab": {
          "base_uri": "https://localhost:8080/"
        },
        "id": "QpGv_ZXZNCv7",
        "outputId": "1b7ec3fd-a612-4bfc-b09b-40262d98a3a6"
      },
      "execution_count": null,
      "outputs": [
        {
          "output_type": "stream",
          "name": "stdout",
          "text": [
            "You're on Home page\n"
          ]
        }
      ]
    },
    {
      "cell_type": "markdown",
      "source": [
        "## Implementation of Multiple Inheritance class"
      ],
      "metadata": {
        "id": "RLsawAG1gIPg"
      }
    },
    {
      "cell_type": "code",
      "source": [
        "# Python Program to depict multiple inheritance\n",
        "\n",
        "class HeaderPost():\n",
        "    def __init__(self):\n",
        "        pass\n",
        "    def content_head(self):\n",
        "        return  \"Our brand new deal here....\"\n",
        "    def __repr__(self):\n",
        "        return \"Header Post class\"\n",
        "\t\n",
        "class FooterPost():\n",
        "    def __init__(self):\n",
        "        pass\n",
        "    def content_foot(self):\n",
        "        return \"Updated term and conditions...\"\n",
        "    def __repr__(self):\n",
        "        return \"Footer Post class\"\n",
        "\t\t\n",
        "class ContactPage(HeaderPost,FooterPost):\n",
        "    def __init__(self):\n",
        "        super(ContactPage,self)\n",
        "        self.contacts = ['atufa','shireen']\n",
        "    def content(self):\n",
        "        \n",
        "        return f\"{self.content_head()} \\n contacts: {self.contacts} \\n {self.content_foot()}\"\n",
        "\t\n",
        "f = ContactPage()\n",
        "f.content()"
      ],
      "metadata": {
        "colab": {
          "base_uri": "https://localhost:8080/",
          "height": 35
        },
        "id": "c3ewf10cNCuK",
        "outputId": "e6559e65-c726-4007-f14d-aeda7b14508a"
      },
      "execution_count": null,
      "outputs": [
        {
          "output_type": "execute_result",
          "data": {
            "text/plain": [
              "\"Our brand new deal here.... \\n contacts: ['atufa', 'shireen'] \\n Updated term and conditions...\""
            ],
            "application/vnd.google.colaboratory.intrinsic+json": {
              "type": "string"
            }
          },
          "metadata": {},
          "execution_count": 72
        }
      ]
    },
    {
      "cell_type": "markdown",
      "source": [
        "## Implementation of decorators"
      ],
      "metadata": {
        "id": "IV8n3W7WgLxs"
      }
    },
    {
      "cell_type": "code",
      "source": [
        "def do_twice(func):  \n",
        "    def wrapper_do_twice(*args,**kwargs):  \n",
        "        func()  \n",
        "        func()  \n",
        "    return wrapper_do_twice  \n",
        "\n",
        "@do_twice  \n",
        "def say_hello():  \n",
        "    print(\"Hello There\")  \n",
        "say_hello()  "
      ],
      "metadata": {
        "colab": {
          "base_uri": "https://localhost:8080/"
        },
        "id": "zgESFIUhbNZj",
        "outputId": "6b6f8153-bf63-4aa4-8468-4e4b0fc9a325"
      },
      "execution_count": null,
      "outputs": [
        {
          "output_type": "stream",
          "name": "stdout",
          "text": [
            "Hello There\n",
            "Hello There\n"
          ]
        }
      ]
    }
  ]
}